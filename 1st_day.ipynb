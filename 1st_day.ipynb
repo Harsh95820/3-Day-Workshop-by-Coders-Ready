{
  "nbformat": 4,
  "nbformat_minor": 0,
  "metadata": {
    "colab": {
      "provenance": []
    },
    "kernelspec": {
      "name": "python3",
      "display_name": "Python 3"
    },
    "language_info": {
      "name": "python"
    }
  },
  "cells": [
    {
      "cell_type": "code",
      "execution_count": null,
      "metadata": {
        "colab": {
          "base_uri": "https://localhost:8080/"
        },
        "id": "HwRSCxOuv8pe",
        "outputId": "25462cc8-654a-4526-e0d3-dc50278f1050"
      },
      "outputs": [
        {
          "output_type": "execute_result",
          "data": {
            "text/plain": [
              "101"
            ]
          },
          "metadata": {},
          "execution_count": 1
        }
      ],
      "source": [
        "45 + 56"
      ]
    },
    {
      "cell_type": "code",
      "source": [
        "a = 4"
      ],
      "metadata": {
        "id": "DQpvJA0TxgHr"
      },
      "execution_count": null,
      "outputs": []
    },
    {
      "cell_type": "code",
      "source": [
        "print('Hello Coder')"
      ],
      "metadata": {
        "colab": {
          "base_uri": "https://localhost:8080/"
        },
        "id": "h_HiYZaMxhyN",
        "outputId": "ccbb2492-f23c-4cfc-f7aa-ae1c7a8410fd"
      },
      "execution_count": null,
      "outputs": [
        {
          "output_type": "stream",
          "name": "stdout",
          "text": [
            "Hello Coder\n"
          ]
        }
      ]
    },
    {
      "cell_type": "code",
      "source": [
        "print(4)"
      ],
      "metadata": {
        "colab": {
          "base_uri": "https://localhost:8080/"
        },
        "id": "dQ8J7wKgxmbC",
        "outputId": "c948728d-e059-4474-c14b-4899855beb3a"
      },
      "execution_count": null,
      "outputs": [
        {
          "output_type": "stream",
          "name": "stdout",
          "text": [
            "4\n"
          ]
        }
      ]
    },
    {
      "cell_type": "code",
      "source": [
        "b = 'Hello Dear Coders 56'"
      ],
      "metadata": {
        "id": "3FnRGFrrxoRT"
      },
      "execution_count": null,
      "outputs": []
    },
    {
      "cell_type": "code",
      "source": [
        "b"
      ],
      "metadata": {
        "colab": {
          "base_uri": "https://localhost:8080/",
          "height": 35
        },
        "id": "rdbltK2VxvGn",
        "outputId": "9d9ed629-d0b0-4fb4-ffa1-85bd9c480429"
      },
      "execution_count": null,
      "outputs": [
        {
          "output_type": "execute_result",
          "data": {
            "text/plain": [
              "'Hello Dear Coders 56'"
            ],
            "application/vnd.google.colaboratory.intrinsic+json": {
              "type": "string"
            }
          },
          "metadata": {},
          "execution_count": 6
        }
      ]
    },
    {
      "cell_type": "code",
      "source": [
        "print(b)"
      ],
      "metadata": {
        "colab": {
          "base_uri": "https://localhost:8080/"
        },
        "id": "efei-_vcxwN0",
        "outputId": "cad8a57c-3e4e-4948-b322-263161a8d21a"
      },
      "execution_count": null,
      "outputs": [
        {
          "output_type": "stream",
          "name": "stdout",
          "text": [
            "Hello Dear Coders 56\n"
          ]
        }
      ]
    },
    {
      "cell_type": "code",
      "source": [
        "a = 4\n",
        "b = 4.5\n",
        "c = 'coders'\n",
        "d = 3 + 5j\n",
        "e = 5**3\n",
        "f = 9/2\n",
        "g = 9/2\n",
        "h = None"
      ],
      "metadata": {
        "id": "WcMg3TU_xzHV"
      },
      "execution_count": null,
      "outputs": []
    },
    {
      "cell_type": "code",
      "source": [
        "d.real"
      ],
      "metadata": {
        "colab": {
          "base_uri": "https://localhost:8080/"
        },
        "id": "VO5BGDZDyM6W",
        "outputId": "1cfd13be-a31e-449e-99c8-5a4dae6d1711"
      },
      "execution_count": null,
      "outputs": [
        {
          "output_type": "execute_result",
          "data": {
            "text/plain": [
              "3.0"
            ]
          },
          "metadata": {},
          "execution_count": 10
        }
      ]
    },
    {
      "cell_type": "code",
      "source": [
        "d.imag"
      ],
      "metadata": {
        "colab": {
          "base_uri": "https://localhost:8080/"
        },
        "id": "Gfc0_NC8yQet",
        "outputId": "f0fcfb26-6a0e-4406-98b4-2ec6c37afe92"
      },
      "execution_count": null,
      "outputs": [
        {
          "output_type": "execute_result",
          "data": {
            "text/plain": [
              "5.0"
            ]
          },
          "metadata": {},
          "execution_count": 12
        }
      ]
    },
    {
      "cell_type": "code",
      "source": [
        "True + False"
      ],
      "metadata": {
        "colab": {
          "base_uri": "https://localhost:8080/"
        },
        "id": "Ws7CWo7KyTe3",
        "outputId": "e4f58190-fb4a-405b-ccfd-9060a7645912"
      },
      "execution_count": null,
      "outputs": [
        {
          "output_type": "execute_result",
          "data": {
            "text/plain": [
              "1"
            ]
          },
          "metadata": {},
          "execution_count": 13
        }
      ]
    },
    {
      "cell_type": "code",
      "source": [
        "f"
      ],
      "metadata": {
        "colab": {
          "base_uri": "https://localhost:8080/"
        },
        "id": "-8DtwNFUyZRO",
        "outputId": "7d097254-2ea0-4e91-92c6-ae08dc6efa6d"
      },
      "execution_count": null,
      "outputs": [
        {
          "output_type": "execute_result",
          "data": {
            "text/plain": [
              "4.5"
            ]
          },
          "metadata": {},
          "execution_count": 14
        }
      ]
    },
    {
      "cell_type": "code",
      "source": [
        "g"
      ],
      "metadata": {
        "colab": {
          "base_uri": "https://localhost:8080/"
        },
        "id": "JE_nYJ-jyapJ",
        "outputId": "44317f1f-56ab-40ad-ea44-05892c3f42e0"
      },
      "execution_count": null,
      "outputs": [
        {
          "output_type": "execute_result",
          "data": {
            "text/plain": [
              "4.5"
            ]
          },
          "metadata": {},
          "execution_count": 15
        }
      ]
    },
    {
      "cell_type": "code",
      "source": [
        "a + b"
      ],
      "metadata": {
        "colab": {
          "base_uri": "https://localhost:8080/"
        },
        "id": "SJsY_sL6ybSW",
        "outputId": "cf4c63c4-77d7-4608-ef32-638e41c85088"
      },
      "execution_count": null,
      "outputs": [
        {
          "output_type": "execute_result",
          "data": {
            "text/plain": [
              "8.5"
            ]
          },
          "metadata": {},
          "execution_count": 16
        }
      ]
    },
    {
      "cell_type": "code",
      "source": [
        "a = 4\n",
        "b = 13"
      ],
      "metadata": {
        "id": "DBiVQ32PydVv"
      },
      "execution_count": null,
      "outputs": []
    },
    {
      "cell_type": "code",
      "source": [
        "if a < 6 or b > 9:\n",
        "  print('Raghav')"
      ],
      "metadata": {
        "colab": {
          "base_uri": "https://localhost:8080/"
        },
        "id": "HKu91m4Tyhj1",
        "outputId": "d0cc5ee2-f1c2-4113-a7b4-6b51aa36ef1e"
      },
      "execution_count": null,
      "outputs": [
        {
          "output_type": "stream",
          "name": "stdout",
          "text": [
            "Raghav\n"
          ]
        }
      ]
    },
    {
      "cell_type": "code",
      "source": [
        "age = 22\n",
        "if age < 20:\n",
        "  print('you might be right')\n",
        "elif 21<age<23:\n",
        "  print('age will definetly lie between this range')\n",
        "else:\n",
        "  print(\"I am shivam verify that my age is: \", age)"
      ],
      "metadata": {
        "colab": {
          "base_uri": "https://localhost:8080/"
        },
        "id": "iibYe0QIyqa2",
        "outputId": "42387bff-d13c-449b-8278-77f295578a99"
      },
      "execution_count": null,
      "outputs": [
        {
          "output_type": "stream",
          "name": "stdout",
          "text": [
            "age will definetly lie between this range\n"
          ]
        }
      ]
    },
    {
      "cell_type": "code",
      "source": [
        "n = []\n",
        "sq = []\n",
        "cb = []\n",
        "\n",
        "for i in range(20):\n",
        "  a = i\n",
        "  b = i**2\n",
        "  c = i**3\n",
        "\n",
        "  n.append(a)\n",
        "  sq.append(b)\n",
        "  cb.append(c)"
      ],
      "metadata": {
        "id": "72uhuorpzR3j"
      },
      "execution_count": null,
      "outputs": []
    },
    {
      "cell_type": "code",
      "source": [
        "n"
      ],
      "metadata": {
        "colab": {
          "base_uri": "https://localhost:8080/"
        },
        "id": "XUCZiCfqz0Vq",
        "outputId": "cb547b19-8039-4229-f4e1-0753922c7d79"
      },
      "execution_count": null,
      "outputs": [
        {
          "output_type": "execute_result",
          "data": {
            "text/plain": [
              "[0, 1, 2, 3, 4, 5, 6, 7, 8, 9, 10, 11, 12, 13, 14, 15, 16, 17, 18, 19]"
            ]
          },
          "metadata": {},
          "execution_count": 23
        }
      ]
    },
    {
      "cell_type": "code",
      "source": [
        "sq"
      ],
      "metadata": {
        "colab": {
          "base_uri": "https://localhost:8080/"
        },
        "id": "pN1kMcsbz59I",
        "outputId": "130d1fb2-e6f3-4a0b-fdde-825b06cb1be7"
      },
      "execution_count": null,
      "outputs": [
        {
          "output_type": "execute_result",
          "data": {
            "text/plain": [
              "[0,\n",
              " 1,\n",
              " 4,\n",
              " 9,\n",
              " 16,\n",
              " 25,\n",
              " 36,\n",
              " 49,\n",
              " 64,\n",
              " 81,\n",
              " 100,\n",
              " 121,\n",
              " 144,\n",
              " 169,\n",
              " 196,\n",
              " 225,\n",
              " 256,\n",
              " 289,\n",
              " 324,\n",
              " 361]"
            ]
          },
          "metadata": {},
          "execution_count": 24
        }
      ]
    },
    {
      "cell_type": "code",
      "source": [
        "cb"
      ],
      "metadata": {
        "colab": {
          "base_uri": "https://localhost:8080/"
        },
        "id": "htabffzVz609",
        "outputId": "241b106d-c89f-4f17-8a27-91ce0223c424"
      },
      "execution_count": null,
      "outputs": [
        {
          "output_type": "execute_result",
          "data": {
            "text/plain": [
              "[0,\n",
              " 1,\n",
              " 8,\n",
              " 27,\n",
              " 64,\n",
              " 125,\n",
              " 216,\n",
              " 343,\n",
              " 512,\n",
              " 729,\n",
              " 1000,\n",
              " 1331,\n",
              " 1728,\n",
              " 2197,\n",
              " 2744,\n",
              " 3375,\n",
              " 4096,\n",
              " 4913,\n",
              " 5832,\n",
              " 6859]"
            ]
          },
          "metadata": {},
          "execution_count": 25
        }
      ]
    },
    {
      "cell_type": "code",
      "source": [
        "import matplotlib.pyplot as plt\n",
        "plt.plot(n,sq, ',-', n,cb,'*-')"
      ],
      "metadata": {
        "colab": {
          "base_uri": "https://localhost:8080/",
          "height": 300
        },
        "id": "Fo-53ex4z7yk",
        "outputId": "61e5de02-e101-4147-8d33-923f086770fa"
      },
      "execution_count": null,
      "outputs": [
        {
          "output_type": "execute_result",
          "data": {
            "text/plain": [
              "[<matplotlib.lines.Line2D at 0x7fba24004640>,\n",
              " <matplotlib.lines.Line2D at 0x7fba24004700>]"
            ]
          },
          "metadata": {},
          "execution_count": 26
        },
        {
          "output_type": "display_data",
          "data": {
            "text/plain": [
              "<Figure size 432x288 with 1 Axes>"
            ],
            "image/png": "[encoded data removed]"
          },
          "metadata": {
            "needs_background": "light"
          }
        }
      ]
    },
    {
      "cell_type": "code",
      "source": [],
      "metadata": {
        "id": "Khs7RDNN0Uqd"
      },
      "execution_count": null,
      "outputs": []
    }
  ]
}